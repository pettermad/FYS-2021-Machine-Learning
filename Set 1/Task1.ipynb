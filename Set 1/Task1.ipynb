{
 "cells": [
  {
   "cell_type": "code",
   "execution_count": 2,
   "metadata": {},
   "outputs": [],
   "source": [
    "import numpy as np "
   ]
  },
  {
   "cell_type": "code",
   "execution_count": 3,
   "metadata": {},
   "outputs": [],
   "source": [
    "#Vectors\n",
    "a = np.array([1,1,1,1,1,1])\n",
    "b = np.array([2,2,2,2,2,2])\n",
    "X = np.array([[3,3,3,3,3,3],\n",
    "              [3,3,3,3,3,3],\n",
    "              [3,3,3,3,3,3],\n",
    "              [3,3,3,3,3,3]])\n",
    "Z = np.array([[4,4,4,4,4,4],\n",
    "             [4,4,4,4,4,4],\n",
    "             [4,4,4,4,4,4]])"
   ]
  },
  {
   "cell_type": "code",
   "execution_count": 4,
   "metadata": {},
   "outputs": [
    {
     "name": "stdout",
     "output_type": "stream",
     "text": [
      "12\n"
     ]
    }
   ],
   "source": [
    "#Task 1b and 1c\n",
    "'''\n",
    "Vectorize the sum: y = sum(a_i*b_i)\n",
    "\n",
    "Note that this sum is a simple vector product. \n",
    "For the NumPy package, matrix (and vector) products can be written as follows\n",
    "'''\n",
    "y = a@b\n",
    "print(y)"
   ]
  },
  {
   "cell_type": "code",
   "execution_count": 5,
   "metadata": {},
   "outputs": [
    {
     "name": "stdout",
     "output_type": "stream",
     "text": [
      "[18 18 18 18]\n"
     ]
    }
   ],
   "source": [
    "#Task 1d\n",
    "'''\n",
    "We have a matrix X with dimensions NxM (4x6) and vector a with dimensions 1xM (1x6)\n",
    "'''\n",
    "y = a@X.T\n",
    "print(y)"
   ]
  },
  {
   "cell_type": "code",
   "execution_count": 6,
   "metadata": {},
   "outputs": [
    {
     "name": "stdout",
     "output_type": "stream",
     "text": [
      "[18 18 18 18]\n"
     ]
    }
   ],
   "source": [
    "#Task 1e \n",
    "'''\n",
    "We can't use matrix multiplication here, so we'll make it so we can do a simple elementwise multiplication\n",
    "'''\n",
    "a_tmp = np.tile(np.array([a]), (4,1))\n",
    "y = np.sum(a_tmp*X, axis=1)\n",
    "print(y)"
   ]
  },
  {
   "cell_type": "code",
   "execution_count": 7,
   "metadata": {},
   "outputs": [
    {
     "name": "stdout",
     "output_type": "stream",
     "text": [
      "(3, 6)\n",
      "(4, 6)\n",
      "[[72 72 72 72]\n",
      " [72 72 72 72]\n",
      " [72 72 72 72]]\n"
     ]
    }
   ],
   "source": [
    "#Task 1f\n",
    "'''\n",
    "\n",
    "'''\n",
    "print(Z.shape)\n",
    "print(X.shape)\n",
    "y = Z@X.T \n",
    "print(y)\n"
   ]
  },
  {
   "cell_type": "code",
   "execution_count": 8,
   "metadata": {},
   "outputs": [],
   "source": [
    "X = np.array([[1,1,1,1,1,1],\n",
    "              [1,1,1,1,1,1],\n",
    "              [1,1,1,1,1,1],\n",
    "              [1,1,1,1,1,1],\n",
    "              [1,1,1,1,1,1]])\n",
    "W = np.array([\n",
    "    [2,2,2,2,2,2],\n",
    "    [2,2,2,2,2,2],\n",
    "    [2,2,2,2,2,2]\n",
    "])\n",
    "\n",
    "a = np.array([3,3,3,3,3])\n"
   ]
  },
  {
   "cell_type": "code",
   "execution_count": 9,
   "metadata": {},
   "outputs": [
    {
     "name": "stdout",
     "output_type": "stream",
     "text": [
      "[180 180 180]\n"
     ]
    }
   ],
   "source": [
    "#Task 1g\n",
    "'''\n",
    "\n",
    "'''\n",
    "v = W@X.T\n",
    "y = v@a\n",
    "print(y)"
   ]
  },
  {
   "cell_type": "code",
   "execution_count": 10,
   "metadata": {},
   "outputs": [
    {
     "name": "stdout",
     "output_type": "stream",
     "text": [
      "Resultant Matrix: \n",
      "[[ 58.  64.]\n",
      " [139. 154.]]\n"
     ]
    }
   ],
   "source": [
    "#Task 1h \n",
    "def matrix_multiply(matrix1, matrix2):\n",
    "    ''' \n",
    "    Only works on two dimensional matrices (or lower maybe)\n",
    "    '''\n",
    "    \n",
    "    # Get dimensions of the matrices\n",
    "    matrix1 = np.array(matrix1)\n",
    "    matrix2 = np.array(matrix2)\n",
    "    \n",
    "    # Get dimensions of the matrices\n",
    "    rows_matrix1 = matrix1.shape[0] # Number of rows in the first matrix\n",
    "    cols_matrix1 = matrix1.shape[1]\n",
    "    rows_matrix2 = matrix2.shape[0]\n",
    "    cols_matrix2 = matrix2.shape[1]\n",
    "    \n",
    "    # Check if matrices can be multiplied\n",
    "    if cols_matrix1 != rows_matrix2:\n",
    "        raise ValueError(\"Number of columns in the first matrix must be equal to the number of rows in the second matrix.\")\n",
    "    \n",
    "    # Create result matrix with zeros\n",
    "    result = np.zeros((rows_matrix1, cols_matrix2))\n",
    "    \n",
    "    # Perform matrix multiplication\n",
    "    for i in range(rows_matrix1):\n",
    "        for j in range(cols_matrix2):\n",
    "            for k in range(cols_matrix1):  # or rows_matrix2\n",
    "                result[i, j] += matrix1[i, k] * matrix2[k, j]\n",
    "    \n",
    "    return result\n",
    "\n",
    "matrix1 = [\n",
    "    [1, 2, 3],\n",
    "    [4, 5, 6]\n",
    "]\n",
    "\n",
    "matrix2 = [\n",
    "    [7, 8],\n",
    "    [9, 10],\n",
    "    [11, 12]\n",
    "]\n",
    "\n",
    "result = matrix_multiply(matrix1, matrix2)\n",
    "print(f\"Resultant Matrix: \\n{result}\")"
   ]
  },
  {
   "cell_type": "markdown",
   "metadata": {},
   "source": [
    "Task 1i\n",
    "$$(A^T A)^T = A^T (A^T)^T = A^T A$$"
   ]
  },
  {
   "cell_type": "code",
   "execution_count": 11,
   "metadata": {},
   "outputs": [
    {
     "name": "stdout",
     "output_type": "stream",
     "text": [
      "0.0\n",
      "0.006734609603881836\n"
     ]
    }
   ],
   "source": [
    "X = np.random.randint(low=0, high=10, size=(1000,5))\n",
    "W = np.random.randint(low=0,high=10,size=(1,5))\n",
    "\n",
    "import time \n",
    "\n",
    "start = time.time()\n",
    "y = W@X.T\n",
    "end=time.time()\n",
    "print(end-start)\n",
    "\n",
    "start = time.time()\n",
    "y = matrix_multiply(X, W.T)\n",
    "end=time.time()\n",
    "print(end-start)\n"
   ]
  }
 ],
 "metadata": {
  "kernelspec": {
   "display_name": "env",
   "language": "python",
   "name": "python3"
  },
  "language_info": {
   "codemirror_mode": {
    "name": "ipython",
    "version": 3
   },
   "file_extension": ".py",
   "mimetype": "text/x-python",
   "name": "python",
   "nbconvert_exporter": "python",
   "pygments_lexer": "ipython3",
   "version": "3.11.5"
  }
 },
 "nbformat": 4,
 "nbformat_minor": 2
}
