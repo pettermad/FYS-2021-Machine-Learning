{
 "cells": [
  {
   "cell_type": "code",
   "execution_count": 2,
   "metadata": {},
   "outputs": [
    {
     "name": "stdout",
     "output_type": "stream",
     "text": [
      "35\n"
     ]
    }
   ],
   "source": [
    "#1b\n",
    "\n",
    "import numpy as np\n",
    "\n",
    "def y(a,b):\n",
    "    y = 0\n",
    "    for i in range(0,len(a)):\n",
    "        y += a[i] * b[i]\n",
    "    return print(y)\n",
    "\n",
    "a = np.array([1,2,3,4,5])\n",
    "b = np.array([5,4,3,2,1])\n",
    "\n",
    "y(a,b)\n"
   ]
  },
  {
   "cell_type": "code",
   "execution_count": 11,
   "metadata": {},
   "outputs": [
    {
     "name": "stdout",
     "output_type": "stream",
     "text": [
      "35\n",
      "35\n"
     ]
    }
   ],
   "source": [
    "#1c\n",
    "\n",
    "y = np.dot(a, b)\n",
    "print(y)\n",
    "y = a@b\n",
    "print(y)"
   ]
  },
  {
   "cell_type": "code",
   "execution_count": 13,
   "metadata": {},
   "outputs": [
    {
     "name": "stdout",
     "output_type": "stream",
     "text": [
      "[55 35 95 15]\n"
     ]
    }
   ],
   "source": [
    "#1d\n",
    "X = np.array([[1,2,3,4,5],[5,4,3,2,1],[1,3,5,7,9],[1,1,1,1,1]])\n",
    "\n",
    "y = a@X.T\n",
    "\n",
    "print(y)\n"
   ]
  },
  {
   "cell_type": "code",
   "execution_count": 16,
   "metadata": {},
   "outputs": [
    {
     "name": "stdout",
     "output_type": "stream",
     "text": [
      "[[1 2 3 4 5]\n",
      " [1 2 3 4 5]\n",
      " [1 2 3 4 5]\n",
      " [1 2 3 4 5]]\n",
      "[55 35 95 15]\n"
     ]
    }
   ],
   "source": [
    "#1e\n",
    "\n",
    "a_tmp = np.tile(np.array([a]), (4,1)) #We tile the array a 4 times, so we can do elementwise multiplication\n",
    "print(a_tmp)\n",
    "y = np.sum(a_tmp*X, axis=1)\n",
    "print(y)"
   ]
  },
  {
   "cell_type": "code",
   "execution_count": 19,
   "metadata": {},
   "outputs": [
    {
     "name": "stdout",
     "output_type": "stream",
     "text": [
      "(3, 5)\n",
      "(4, 5)\n",
      "[[ 60  60 100  20]\n",
      " [ 60  60 100  20]\n",
      " [ 60  60 100  20]]\n"
     ]
    }
   ],
   "source": [
    "#1f\n",
    "\n",
    "Z = np.array([[4,4,4,4,4],\n",
    "             [4,4,4,4,4],\n",
    "             [4,4,4,4,4]])\n",
    "\n",
    "print(Z.shape)\n",
    "print(X.shape)\n",
    "y = Z@X.T \n",
    "print(y)\n",
    "\n"
   ]
  },
  {
   "cell_type": "code",
   "execution_count": 20,
   "metadata": {},
   "outputs": [
    {
     "name": "stdout",
     "output_type": "stream",
     "text": [
      "[180 180 180]\n"
     ]
    }
   ],
   "source": [
    "#1g\n",
    "\n",
    "#lik antall kolonne X og W\n",
    "\n",
    "X = np.array([[1,1,1,1,1,1],\n",
    "              [1,1,1,1,1,1],\n",
    "              [1,1,1,1,1,1],\n",
    "              [1,1,1,1,1,1],\n",
    "              [1,1,1,1,1,1]])\n",
    "W = np.array([\n",
    "    [2,2,2,2,2,2],\n",
    "    [2,2,2,2,2,2],\n",
    "    [2,2,2,2,2,2]\n",
    "])\n",
    "\n",
    "a = np.array([3,3,3,3,3])\n",
    "\n",
    "v = W@X.T\n",
    "y = v@a\n",
    "print(y)"
   ]
  },
  {
   "cell_type": "code",
   "execution_count": null,
   "metadata": {},
   "outputs": [],
   "source": []
  },
  {
   "cell_type": "code",
   "execution_count": null,
   "metadata": {},
   "outputs": [],
   "source": []
  },
  {
   "cell_type": "code",
   "execution_count": null,
   "metadata": {},
   "outputs": [],
   "source": []
  },
  {
   "cell_type": "code",
   "execution_count": null,
   "metadata": {},
   "outputs": [],
   "source": []
  }
 ],
 "metadata": {
  "kernelspec": {
   "display_name": "base",
   "language": "python",
   "name": "python3"
  },
  "language_info": {
   "codemirror_mode": {
    "name": "ipython",
    "version": 3
   },
   "file_extension": ".py",
   "mimetype": "text/x-python",
   "name": "python",
   "nbconvert_exporter": "python",
   "pygments_lexer": "ipython3",
   "version": "3.11.5"
  }
 },
 "nbformat": 4,
 "nbformat_minor": 2
}
